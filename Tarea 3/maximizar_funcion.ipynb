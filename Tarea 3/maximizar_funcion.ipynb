{
 "cells": [
  {
   "cell_type": "markdown",
   "id": "5c665ae7",
   "metadata": {},
   "source": [
    "# Maximización de $f(x) = x\\sin(10\\pi x) + 1$ en $[0,1]$  \n",
    "\n",
    "Este notebook contiene un **procedimiento numérico y justificativo** para encontrar el máximo global de la función\n",
    "\\(f(x)=x\\sin(10\\pi x)+1\\) en el intervalo \\([0,1]\\). Se utiliza:\n",
    "\n",
    "1. Muestreo en una grilla fina para localizar candidatos.  \n",
    "2. Detección de máximos locales en la grilla.  \n",
    "3. Refinamiento de las raíces de la derivada $f'(x)=0$ usando el método de Newton (derivadas analíticas).  \n",
    "4. Evaluación de candidatos y extremos para seleccionar el máximo global.  \n",
    "\n",
    "Los bloques de código que siguen implementan exactamente este flujo y muestran la gráfica final."
   ]
  },
  {
   "cell_type": "code",
   "execution_count": null,
   "id": "2db6e0c7",
   "metadata": {},
   "outputs": [],
   "source": [
    "import numpy as np\n",
    "def f(x):\n",
    "    x = np.asarray(x)\n",
    "    return x * np.sin(10*np.pi*x) + 1\n",
    "\n",
    "def f1(x):\n",
    "    return np.sin(10*np.pi*x) + 10*np.pi*x*np.cos(10*np.pi*x)\n",
    "\n",
    "def f2(x):\n",
    "    return 20*np.pi*np.cos(10*np.pi*x) - 100*(np.pi**2)*x*np.sin(10*np.pi*x)\n",
    "\n",
    "# Muestreo y cálculo en grilla\n",
    "N = 20001\n",
    "x_grid = np.linspace(0,1,N)\n",
    "f_grid = f(x_grid)\n",
    "\n",
    "# (El resto del flujo sigue: detección de máximos locales, refinamiento con Newton y evaluación final)"
   ]
  },
  {
   "cell_type": "markdown",
   "id": "021f382e",
   "metadata": {},
   "source": [
    "## Muestreo para localizar candidatos\n",
    "Se toma una grilla uniforme en [0,1] y se evalúa la función para localizar máximos locales."
   ]
  },
  {
   "cell_type": "code",
   "execution_count": null,
   "id": "5809f20e",
   "metadata": {},
   "outputs": [],
   "source": [
    "# Muestreo y detección de máximos locales\n",
    "idx_max = int(np.argmax(f_grid))\n",
    "x0 = x_grid[idx_max]\n",
    "local_max_idx = np.where((f_grid[1:-1] > f_grid[:-2]) & (f_grid[1:-1] > f_grid[2:]))[0] + 1\n",
    "candidates = list(x_grid[local_max_idx])\n",
    "if idx_max not in x_grid[local_max_idx]:\n",
    "    candidates.append(x0)\n",
    "cand_vals = [(x, float(f(x))) for x in candidates]\n",
    "cand_vals_sorted = sorted(cand_vals, key=lambda t: t[1], reverse=True)\n",
    "top_candidates = [t[0] for t in cand_vals_sorted[:10]]\n",
    "top_candidates\n"
   ]
  },
  {
   "cell_type": "markdown",
   "id": "10df8fde",
   "metadata": {},
   "source": [
    "## Refinamiento de las raíces de la derivada\n",
    "Se usa el método de Newton (derivadas analíticas) para refinar las posiciones de los máximos locales detectados."
   ]
  },
  {
   "cell_type": "code",
   "execution_count": null,
   "id": "1b58621d",
   "metadata": {},
   "outputs": [],
   "source": [
    "def newton_refine(x0, tol=1e-14, maxiter=200):\n",
    "    x = float(np.clip(x0, 0.0, 1.0))\n",
    "    for i in range(maxiter):\n",
    "        fp = f1(x)\n",
    "        fpp = f2(x)\n",
    "        if abs(fpp) < 1e-16:\n",
    "            break\n",
    "        dx = fp / fpp\n",
    "        if abs(dx) > 0.2:\n",
    "            dx = np.sign(dx)*0.2\n",
    "        x_new = x - dx\n",
    "        x_new = min(1.0, max(0.0, x_new))\n",
    "        if abs(x_new - x) < tol:\n",
    "            x = x_new\n",
    "            break\n",
    "        x = x_new\n",
    "    return x\n",
    "\n",
    "roots = []\n",
    "for xinit in top_candidates:\n",
    "    xr = newton_refine(xinit)\n",
    "    xr = float(np.clip(xr, 0.0, 1.0))\n",
    "    roots.append(xr)\n",
    "\n",
    "# Deduplicación\n",
    "roots_unique = []\n",
    "for r in roots:\n",
    "    if not any(abs(r - ru) < 1e-10 for ru in roots_unique):\n",
    "        roots_unique.append(r)\n",
    "roots_unique = sorted(roots_unique)\n",
    "roots_unique\n"
   ]
  },
  {
   "cell_type": "markdown",
   "id": "9b565881",
   "metadata": {},
   "source": [
    "## Evaluación final y gráfica\n",
    "Se evalúan las raíces refinadas y los extremos; se elige el máximo global y se grafica la función con la marca del máximo."
   ]
  },
  {
   "cell_type": "code",
   "execution_count": null,
   "id": "e76e9c53",
   "metadata": {},
   "outputs": [],
   "source": [
    "all_points = roots_unique + [0.0, 1.0]\n",
    "evals = [(x, float(f(x))) for x in all_points]\n",
    "x_star, f_star = max(evals, key=lambda t: t[1])\n",
    "print('Máximo global aproximado: x* = {:.12f}'.format(x_star))\n",
    "print('f(x*) = {:.12f}'.format(f_star))\n",
    "\n",
    "import matplotlib.pyplot as plt\n",
    "plt.figure(figsize=(10,4))\n",
    "plt.plot(x_grid, f_grid)\n",
    "plt.scatter([x_star], [f_star])\n",
    "plt.title('f(x) = x·sin(10πx) + 1 — máximo en x* ≈ {:.12f}'.format(x_star))\n",
    "plt.xlabel('x')\n",
    "plt.ylabel('f(x)')\n",
    "plt.grid(True)\n",
    "plt.show()\n"
   ]
  }
 ],
 "metadata": {},
 "nbformat": 4,
 "nbformat_minor": 5
}
